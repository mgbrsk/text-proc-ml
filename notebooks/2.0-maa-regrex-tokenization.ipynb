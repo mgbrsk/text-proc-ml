{
 "cells": [
  {
   "cell_type": "markdown",
   "metadata": {},
   "source": [
    "2.4.3 Tokenization"
   ]
  },
  {
   "cell_type": "code",
   "execution_count": 5,
   "metadata": {},
   "outputs": [],
   "source": [
    "import re\n",
    "import sys"
   ]
  },
  {
   "cell_type": "code",
   "execution_count": 32,
   "metadata": {},
   "outputs": [],
   "source": [
    "TOKENIZE_RE = re.compile(r\"[а-яё]+|-?\\d*[.,]?\\d+|\\S\", re.I)\n",
    "# -?\\d*[.,]?\\d+\n",
    "\n",
    "\n",
    "def tokenize(txt):\n",
    "    return TOKENIZE_RE.findall(txt)"
   ]
  },
  {
   "cell_type": "code",
   "execution_count": 38,
   "metadata": {},
   "outputs": [
    {
     "name": "stdout",
     "output_type": "stream",
     "text": [
      "тестовое сообщение\n",
      "мама мыла раму .\n",
      "контактный телефон : 123123 .\n",
      "что - нибудь надо придумать .\n",
      "значение числа е = 2.7182 .\n",
      "демон 123 , как тебя зовут в реале ?\n",
      "-1 -.15 = -1.15\n",
      "- 1 - .15 = -1.15\n",
      "какого ; % : ? * тут происходит ?\n"
     ]
    }
   ],
   "source": [
    "text_corpus = [\n",
    "    \"Тестовое сообщение\",\n",
    "    \"Мама мыла раму.\",\n",
    "    \"Контактный телефон: 123123.\",\n",
    "    \"Что-нибудь надо придумать.\",\n",
    "    \"Значение числа Е=2.7182.\",\n",
    "    \"Демон123, как тебя зовут в реале?\",\n",
    "    \"-1-.15=-1.15\",\n",
    "    \"- 1 - .15 = -1.15\",\n",
    "    \"Какого ;%:?* тут происходит?\",\n",
    "]\n",
    "for text_value in text_corpus:\n",
    "    print(\" \".join(tokenize(text_value.strip().lower())))"
   ]
  },
  {
   "cell_type": "code",
   "execution_count": null,
   "metadata": {},
   "outputs": [],
   "source": []
  }
 ],
 "metadata": {
  "kernelspec": {
   "display_name": ".venv",
   "language": "python",
   "name": "python3"
  },
  "language_info": {
   "codemirror_mode": {
    "name": "ipython",
    "version": 3
   },
   "file_extension": ".py",
   "mimetype": "text/x-python",
   "name": "python",
   "nbconvert_exporter": "python",
   "pygments_lexer": "ipython3",
   "version": "3.10.9"
  }
 },
 "nbformat": 4,
 "nbformat_minor": 2
}
