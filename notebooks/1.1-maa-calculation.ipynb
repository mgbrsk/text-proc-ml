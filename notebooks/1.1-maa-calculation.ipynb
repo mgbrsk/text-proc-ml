{
 "cells": [
  {
   "cell_type": "code",
   "execution_count": 1,
   "metadata": {},
   "outputs": [
    {
     "name": "stdout",
     "output_type": "stream",
     "text": [
      "d:\\coding\\text-proc-ml\n"
     ]
    },
    {
     "name": "stderr",
     "output_type": "stream",
     "text": [
      "d:\\coding\\text-proc-ml\\.venv\\lib\\site-packages\\IPython\\core\\magics\\osm.py:417: UserWarning: This is now an optional IPython functionality, setting dhist requires you to install the `pickleshare` library.\n",
      "  self.shell.db['dhist'] = compress_dhist(dhist)[-100:]\n"
     ]
    }
   ],
   "source": [
    "# OPTIONAL: Load the \"autoreload\" extension so that code can change.\n",
    "%load_ext autoreload\n",
    "\n",
    "# OPTIONAL: always reload modules so that as you change code in src, it gets loaded.\n",
    "%autoreload 2\n",
    "\n",
    "# Смена рабочей папки.\n",
    "%cd .."
   ]
  },
  {
   "cell_type": "markdown",
   "metadata": {},
   "source": [
    "# 2.1.4 распределение Ципфа  \n",
    "f(rank;s,N) = 1/(Z(s,N)*rank^s)  \n",
    "rank - порядковый номер слова после сортировки по убыванию частоты  \n",
    "s - коэффициент скорости убывания вероятности  \n",
    "N - количество слов  \n",
    "Z(s,N) = sum(i=1->N)(i^-s) - нормализационная константа.  "
   ]
  },
  {
   "cell_type": "code",
   "execution_count": 6,
   "metadata": {},
   "outputs": [],
   "source": [
    "from src.calculation.formulas import get_zipf_proba"
   ]
  },
  {
   "cell_type": "code",
   "execution_count": 4,
   "metadata": {},
   "outputs": [],
   "source": [
    "N = 3\n",
    "rank_list = [1, 2, 3]\n",
    "s = 2"
   ]
  },
  {
   "cell_type": "code",
   "execution_count": 7,
   "metadata": {},
   "outputs": [
    {
     "name": "stdout",
     "output_type": "stream",
     "text": [
      "0.7347 0.1837 0.0816\n"
     ]
    }
   ],
   "source": [
    "proba_list = [get_zipf_proba(rank, s, N) for rank in rank_list]\n",
    "print(*proba_list, sep=\" \")"
   ]
  },
  {
   "cell_type": "markdown",
   "metadata": {},
   "source": [
    "# 2.2.5 Кросс-энтропия для бинарной классификации"
   ]
  },
  {
   "cell_type": "code",
   "execution_count": 9,
   "metadata": {},
   "outputs": [],
   "source": [
    "from src.calculation.formulas import get_cross_entropy_for_two_examples"
   ]
  },
  {
   "cell_type": "code",
   "execution_count": 20,
   "metadata": {},
   "outputs": [
    {
     "name": "stdout",
     "output_type": "stream",
     "text": [
      "1: ce_first_example = 4.615220521841592, ce_second_example = 1.3862943611198906. Total (first is smaller than second): False\n",
      "2: ce_first_example = 1.3862943611198906, ce_second_example = 4.615220521841592. Total (first is smaller than second): True\n",
      "3: ce_first_example = 0.8085580320712731, ce_second_example = 0.8615658321849085. Total (first is smaller than second): True\n",
      "4: ce_first_example = 0.8615658321849085, ce_second_example = 0.8085580320712731. Total (first is smaller than second): False\n",
      "5: ce_first_example = 0.8085580320712731, ce_second_example = 4.615220521841592. Total (first is smaller than second): True\n",
      "6: ce_first_example = 4.615220521841592, ce_second_example = 0.8085580320712731. Total (first is smaller than second): False\n"
     ]
    }
   ],
   "source": [
    "examples_dict = {\n",
    "    \"1\": [[0.99, 0.01], [0.5, 0.5]],\n",
    "    \"2\": [[0.5, 0.5], [0.99, 0.01]],\n",
    "    \"3\": [[0.99, 0.45], [0.65, 0.65]],\n",
    "    \"4\": [[0.65, 0.65], [0.99, 0.45]],\n",
    "    \"5\": [[0.99, 0.45], [0.99, 0.01]],\n",
    "    \"6\": [[0.99, 0.01], [0.99, 0.45]],\n",
    "}\n",
    "\n",
    "for key, example_list in examples_dict.items():\n",
    "    ce_first_example = get_cross_entropy_for_two_examples(example_list[0])\n",
    "    ce_second_example = get_cross_entropy_for_two_examples(example_list[1])\n",
    "    print(\n",
    "        f\"{key}: {ce_first_example = }, {ce_second_example = }. Total (first is smaller than second): {ce_first_example < ce_second_example}\"\n",
    "    )"
   ]
  },
  {
   "cell_type": "markdown",
   "metadata": {},
   "source": [
    "# 2.3.2 Производная функции потерь кросс-энтропии"
   ]
  },
  {
   "cell_type": "code",
   "execution_count": 31,
   "metadata": {},
   "outputs": [
    {
     "name": "stdout",
     "output_type": "stream",
     "text": [
      "x*(-y*exp(b + w*x) - y + exp(b + w*x))/(exp(b + w*x) + 1)\n"
     ]
    }
   ],
   "source": [
    "import sympy.parsing.sympy_parser\n",
    "\n",
    "import sympy\n",
    "\n",
    "import math"
   ]
  },
  {
   "cell_type": "code",
   "execution_count": 53,
   "metadata": {},
   "outputs": [
    {
     "data": {
      "text/latex": [
       "$\\displaystyle - y \\log{\\left(\\frac{1}{e^{- b - w x} + 1} \\right)} - \\left(1 - y\\right) \\log{\\left(1 - \\frac{1}{e^{- b - w x} + 1} \\right)}$"
      ],
      "text/plain": [
       "-y*log(1/(exp(-b - w*x) + 1)) - (1 - y)*log(1 - 1/(exp(-b - w*x) + 1))"
      ]
     },
     "execution_count": 53,
     "metadata": {},
     "output_type": "execute_result"
    }
   ],
   "source": [
    "x, y, w, b, c = sympy.symbols(\"x y w b c\")\n",
    "log_res_formula = -y * sympy.log(1 / (1 + sympy.exp(-w * x - b))) - (1 - y) * sympy.log(\n",
    "    1 - 1 / (1 + sympy.exp(-w * x - b))\n",
    ")\n",
    "log_res_formula"
   ]
  },
  {
   "cell_type": "code",
   "execution_count": null,
   "metadata": {},
   "outputs": [
    {
     "data": {
      "text/latex": [
       "$\\displaystyle \\frac{x \\left(- y e^{b + w x} - y + e^{b + w x}\\right)}{e^{b + w x} + 1}$"
      ],
      "text/plain": [
       "x*(-y*exp(b + w*x) - y + exp(b + w*x))/(exp(b + w*x) + 1)"
      ]
     },
     "metadata": {},
     "output_type": "display_data"
    },
    {
     "name": "stdout",
     "output_type": "stream",
     "text": [
      "x*(-y*exp(b + w*x) - y + exp(b + w*x))/(exp(b + w*x) + 1)\n"
     ]
    }
   ],
   "source": [
    "# производная по w\n",
    "res_w = sympy.simplify(sympy.diff(log_res_formula, w))\n",
    "display(res_w)\n",
    "print(str(res_w))"
   ]
  },
  {
   "cell_type": "code",
   "execution_count": 58,
   "metadata": {},
   "outputs": [
    {
     "data": {
      "text/latex": [
       "$\\displaystyle \\frac{- y e^{b + w x} - y + e^{b + w x}}{e^{b + w x} + 1}$"
      ],
      "text/plain": [
       "(-y*exp(b + w*x) - y + exp(b + w*x))/(exp(b + w*x) + 1)"
      ]
     },
     "metadata": {},
     "output_type": "display_data"
    },
    {
     "name": "stdout",
     "output_type": "stream",
     "text": [
      "(-y*exp(b + w*x) - y + exp(b + w*x))/(exp(b + w*x) + 1)\n"
     ]
    }
   ],
   "source": [
    "# производная по b\n",
    "res_b = sympy.simplify(sympy.diff(log_res_formula, b))\n",
    "display(res_b)\n",
    "print(str(sympy.simplify(res_b)))"
   ]
  },
  {
   "cell_type": "code",
   "execution_count": null,
   "metadata": {},
   "outputs": [
    {
     "data": {
      "text/latex": [
       "$\\displaystyle c \\left(b^{2} + w^{2}\\right) - y \\log{\\left(\\frac{1}{e^{- b - w x} + 1} \\right)} - \\left(1 - y\\right) \\log{\\left(1 - \\frac{1}{e^{- b - w x} + 1} \\right)}$"
      ],
      "text/plain": [
       "c*(b**2 + w**2) - y*log(1/(exp(-b - w*x) + 1)) - (1 - y)*log(1 - 1/(exp(-b - w*x) + 1))"
      ]
     },
     "metadata": {},
     "output_type": "display_data"
    }
   ],
   "source": [
    "# производная по w с l2-регуляризацией\n",
    "l2_reg = c * (w**2 + b**2)\n",
    "loss_l2 = log_res_formula + l2_reg\n",
    "display(loss_l2)"
   ]
  },
  {
   "cell_type": "code",
   "execution_count": 63,
   "metadata": {},
   "outputs": [
    {
     "data": {
      "text/latex": [
       "$\\displaystyle \\frac{2 c w e^{b + w x} + 2 c w - x y e^{b + w x} - x y + x e^{b + w x}}{e^{b + w x} + 1}$"
      ],
      "text/plain": [
       "(2*c*w*exp(b + w*x) + 2*c*w - x*y*exp(b + w*x) - x*y + x*exp(b + w*x))/(exp(b + w*x) + 1)"
      ]
     },
     "metadata": {},
     "output_type": "display_data"
    },
    {
     "name": "stdout",
     "output_type": "stream",
     "text": [
      "(2*c*w*exp(b + w*x) + 2*c*w - x*y*exp(b + w*x) - x*y + x*exp(b + w*x))/(exp(b + w*x) + 1)\n"
     ]
    }
   ],
   "source": [
    "res_w_l2 = sympy.simplify(sympy.diff(loss_l2, w))\n",
    "display(res_w_l2)\n",
    "print(str(res_w_l2))"
   ]
  },
  {
   "cell_type": "code",
   "execution_count": 50,
   "metadata": {},
   "outputs": [
    {
     "name": "stdout",
     "output_type": "stream",
     "text": [
      "7.97628706341122\n"
     ]
    }
   ],
   "source": [
    "import sympy.parsing.sympy_parser\n",
    "\n",
    "sample_expr_str = str(res_w_l2)\n",
    "sample_expr = sympy.parsing.sympy_parser.parse_expr(sample_expr_str)\n",
    "sample_value = sample_expr.evalf(subs=dict(x=0.5, y=1, w=4, b=1, c=1))\n",
    "print(sample_value)"
   ]
  },
  {
   "cell_type": "code",
   "execution_count": null,
   "metadata": {},
   "outputs": [
    {
     "data": {
      "text/latex": [
       "$\\displaystyle - \\frac{t \\left(2 c w e^{b + w x} + 2 c w - x y e^{b + w x} - x y + x e^{b + w x}\\right)}{e^{b + w x} + 1} + w$"
      ],
      "text/plain": [
       "-t*(2*c*w*exp(b + w*x) + 2*c*w - x*y*exp(b + w*x) - x*y + x*exp(b + w*x))/(exp(b + w*x) + 1) + w"
      ]
     },
     "metadata": {},
     "output_type": "display_data"
    },
    {
     "name": "stdout",
     "output_type": "stream",
     "text": [
      "-t*(2*c*w*exp(b + w*x) + 2*c*w - x*y*exp(b + w*x) - x*y + x*exp(b + w*x))/(exp(b + w*x) + 1) + w\n"
     ]
    }
   ],
   "source": [
    "# Получаем обновления веса с помощью градиентного спуска.\n",
    "# learning rate\n",
    "t = sympy.symbols(\"t\")\n",
    "\n",
    "# Обновленный вес - старый вес (w) минус градиент на learning_rate\n",
    "new_w = w - t * res_w_l2\n",
    "display(new_w)\n",
    "print(new_w)"
   ]
  },
  {
   "cell_type": "markdown",
   "metadata": {},
   "source": [
    "# 2.3.7 точечная взаимная информация"
   ]
  },
  {
   "cell_type": "code",
   "execution_count": 108,
   "metadata": {},
   "outputs": [],
   "source": [
    "from src.calculation.pmi import calculate_pmi\n",
    "import numpy as np"
   ]
  },
  {
   "cell_type": "code",
   "execution_count": 84,
   "metadata": {},
   "outputs": [
    {
     "name": "stdout",
     "output_type": "stream",
     "text": [
      "a = '1 0 0 1 1 0',\n",
      "b = '1 0 0 0 1 0'\n",
      "0.000000\n"
     ]
    }
   ],
   "source": [
    "a = \"1 0 0 1 1 0\"\n",
    "b = \"1 0 0 0 1 0\"\n",
    "pmi_value = calculate_pmi(a, b)\n",
    "\n",
    "print(\"{:.6f}\".format(pmi_value))"
   ]
  },
  {
   "cell_type": "code",
   "execution_count": 94,
   "metadata": {},
   "outputs": [],
   "source": [
    "a = [1, 0, 0, 1, 1, 0]\n",
    "b = [1, 0, 0, 0, 1, 0]"
   ]
  },
  {
   "cell_type": "code",
   "execution_count": 113,
   "metadata": {},
   "outputs": [
    {
     "data": {
      "text/plain": [
       "0.693147"
      ]
     },
     "execution_count": 113,
     "metadata": {},
     "output_type": "execute_result"
    }
   ],
   "source": [
    "def get_single_proba(x):\n",
    "    return sum(x) / len(x)\n",
    "\n",
    "\n",
    "def get_combine_proba(x, y):\n",
    "    assert len(a) == len(b)\n",
    "    return sum([x and y for x, y in zip(a, b)]) / len(a)\n",
    "\n",
    "\n",
    "pmi = np.log(get_combine_proba(x, y) / (get_single_proba(a) * get_single_proba(b)))\n",
    "float(round(pmi, 6))"
   ]
  },
  {
   "cell_type": "markdown",
   "metadata": {},
   "source": [
    "# 2.3.8 Встречаемость по Ципфу."
   ]
  },
  {
   "cell_type": "code",
   "execution_count": 139,
   "metadata": {},
   "outputs": [
    {
     "data": {
      "text/plain": [
       "976"
      ]
     },
     "execution_count": 139,
     "metadata": {},
     "output_type": "execute_result"
    }
   ],
   "source": [
    "f = lambda rank, s, n: 1 / (rank**s * sum([i**-s for i in range(1, n + 1)]))\n",
    "n = 1000\n",
    "target = 0.001\n",
    "probas = [f(i, s, n) for i in range(1, n + 1)]\n",
    "len(list(filter(lambda p: p < target, probas)))"
   ]
  }
 ],
 "metadata": {
  "kernelspec": {
   "display_name": ".venv",
   "language": "python",
   "name": "python3"
  },
  "language_info": {
   "codemirror_mode": {
    "name": "ipython",
    "version": 3
   },
   "file_extension": ".py",
   "mimetype": "text/x-python",
   "name": "python",
   "nbconvert_exporter": "python",
   "pygments_lexer": "ipython3",
   "version": "3.10.9"
  }
 },
 "nbformat": 4,
 "nbformat_minor": 2
}
